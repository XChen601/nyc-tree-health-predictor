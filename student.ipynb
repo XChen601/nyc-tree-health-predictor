{
 "cells": [
  {
   "cell_type": "code",
   "execution_count": 46,
   "metadata": {},
   "outputs": [],
   "source": [
    "import pandas as pd\n",
    "import re\n",
    "import matplotlib.pyplot as plt\n",
    "import seaborn as sns\n",
    "import folium"
   ]
  },
  {
   "cell_type": "code",
   "execution_count": 47,
   "metadata": {},
   "outputs": [],
   "source": [
    "\n",
    "from sklearn.model_selection import train_test_split\n",
    "from sklearn.model_selection import GridSearchCV\n"
   ]
  },
  {
   "cell_type": "markdown",
   "metadata": {},
   "source": [
    "# Visualizing and cleaning the data"
   ]
  },
  {
   "cell_type": "code",
   "execution_count": 48,
   "metadata": {},
   "outputs": [
    {
     "data": {
      "text/html": [
       "<div>\n",
       "<style scoped>\n",
       "    .dataframe tbody tr th:only-of-type {\n",
       "        vertical-align: middle;\n",
       "    }\n",
       "\n",
       "    .dataframe tbody tr th {\n",
       "        vertical-align: top;\n",
       "    }\n",
       "\n",
       "    .dataframe thead th {\n",
       "        text-align: right;\n",
       "    }\n",
       "</style>\n",
       "<table border=\"1\" class=\"dataframe\">\n",
       "  <thead>\n",
       "    <tr style=\"text-align: right;\">\n",
       "      <th></th>\n",
       "      <th>tree_id</th>\n",
       "      <th>block_id</th>\n",
       "      <th>created_at</th>\n",
       "      <th>tree_dbh</th>\n",
       "      <th>stump_diam</th>\n",
       "      <th>curb_loc</th>\n",
       "      <th>status</th>\n",
       "      <th>health</th>\n",
       "      <th>spc_latin</th>\n",
       "      <th>spc_common</th>\n",
       "      <th>...</th>\n",
       "      <th>state</th>\n",
       "      <th>latitude</th>\n",
       "      <th>longitude</th>\n",
       "      <th>x_sp</th>\n",
       "      <th>y_sp</th>\n",
       "      <th>council district</th>\n",
       "      <th>census tract</th>\n",
       "      <th>bin</th>\n",
       "      <th>bbl</th>\n",
       "      <th>Address Street Name</th>\n",
       "    </tr>\n",
       "  </thead>\n",
       "  <tbody>\n",
       "    <tr>\n",
       "      <th>0</th>\n",
       "      <td>180683</td>\n",
       "      <td>348711</td>\n",
       "      <td>08/27/2015</td>\n",
       "      <td>3</td>\n",
       "      <td>0</td>\n",
       "      <td>OnCurb</td>\n",
       "      <td>Alive</td>\n",
       "      <td>Fair</td>\n",
       "      <td>Acer rubrum</td>\n",
       "      <td>red maple</td>\n",
       "      <td>...</td>\n",
       "      <td>New York</td>\n",
       "      <td>40.723092</td>\n",
       "      <td>-73.844215</td>\n",
       "      <td>1027431.148</td>\n",
       "      <td>202756.7687</td>\n",
       "      <td>29.0</td>\n",
       "      <td>739.0</td>\n",
       "      <td>4052307.0</td>\n",
       "      <td>4.022210e+09</td>\n",
       "      <td>70TH AVE</td>\n",
       "    </tr>\n",
       "    <tr>\n",
       "      <th>1</th>\n",
       "      <td>200540</td>\n",
       "      <td>315986</td>\n",
       "      <td>09/03/2015</td>\n",
       "      <td>21</td>\n",
       "      <td>0</td>\n",
       "      <td>OnCurb</td>\n",
       "      <td>Alive</td>\n",
       "      <td>Fair</td>\n",
       "      <td>Quercus palustris</td>\n",
       "      <td>pin oak</td>\n",
       "      <td>...</td>\n",
       "      <td>New York</td>\n",
       "      <td>40.794111</td>\n",
       "      <td>-73.818679</td>\n",
       "      <td>1034455.701</td>\n",
       "      <td>228644.8374</td>\n",
       "      <td>19.0</td>\n",
       "      <td>973.0</td>\n",
       "      <td>4101931.0</td>\n",
       "      <td>4.044750e+09</td>\n",
       "      <td>7TH AVE</td>\n",
       "    </tr>\n",
       "    <tr>\n",
       "      <th>2</th>\n",
       "      <td>204026</td>\n",
       "      <td>218365</td>\n",
       "      <td>09/05/2015</td>\n",
       "      <td>3</td>\n",
       "      <td>0</td>\n",
       "      <td>OnCurb</td>\n",
       "      <td>Alive</td>\n",
       "      <td>Good</td>\n",
       "      <td>Gleditsia triacanthos var. inermis</td>\n",
       "      <td>honeylocust</td>\n",
       "      <td>...</td>\n",
       "      <td>New York</td>\n",
       "      <td>40.717581</td>\n",
       "      <td>-73.936608</td>\n",
       "      <td>1001822.831</td>\n",
       "      <td>200716.8913</td>\n",
       "      <td>34.0</td>\n",
       "      <td>449.0</td>\n",
       "      <td>3338310.0</td>\n",
       "      <td>3.028870e+09</td>\n",
       "      <td>MORGAN AVE</td>\n",
       "    </tr>\n",
       "    <tr>\n",
       "      <th>3</th>\n",
       "      <td>204337</td>\n",
       "      <td>217969</td>\n",
       "      <td>09/05/2015</td>\n",
       "      <td>10</td>\n",
       "      <td>0</td>\n",
       "      <td>OnCurb</td>\n",
       "      <td>Alive</td>\n",
       "      <td>Good</td>\n",
       "      <td>Gleditsia triacanthos var. inermis</td>\n",
       "      <td>honeylocust</td>\n",
       "      <td>...</td>\n",
       "      <td>New York</td>\n",
       "      <td>40.713537</td>\n",
       "      <td>-73.934456</td>\n",
       "      <td>1002420.358</td>\n",
       "      <td>199244.2531</td>\n",
       "      <td>34.0</td>\n",
       "      <td>449.0</td>\n",
       "      <td>3338342.0</td>\n",
       "      <td>3.029250e+09</td>\n",
       "      <td>GRAND ST</td>\n",
       "    </tr>\n",
       "    <tr>\n",
       "      <th>4</th>\n",
       "      <td>189565</td>\n",
       "      <td>223043</td>\n",
       "      <td>08/30/2015</td>\n",
       "      <td>21</td>\n",
       "      <td>0</td>\n",
       "      <td>OnCurb</td>\n",
       "      <td>Alive</td>\n",
       "      <td>Good</td>\n",
       "      <td>Tilia americana</td>\n",
       "      <td>American linden</td>\n",
       "      <td>...</td>\n",
       "      <td>New York</td>\n",
       "      <td>40.666778</td>\n",
       "      <td>-73.975979</td>\n",
       "      <td>990913.775</td>\n",
       "      <td>182202.4260</td>\n",
       "      <td>39.0</td>\n",
       "      <td>165.0</td>\n",
       "      <td>3025654.0</td>\n",
       "      <td>3.010850e+09</td>\n",
       "      <td>6TH ST</td>\n",
       "    </tr>\n",
       "  </tbody>\n",
       "</table>\n",
       "<p>5 rows × 46 columns</p>\n",
       "</div>"
      ],
      "text/plain": [
       "   tree_id  block_id  created_at  tree_dbh  stump_diam curb_loc status health  \\\n",
       "0   180683    348711  08/27/2015         3           0   OnCurb  Alive   Fair   \n",
       "1   200540    315986  09/03/2015        21           0   OnCurb  Alive   Fair   \n",
       "2   204026    218365  09/05/2015         3           0   OnCurb  Alive   Good   \n",
       "3   204337    217969  09/05/2015        10           0   OnCurb  Alive   Good   \n",
       "4   189565    223043  08/30/2015        21           0   OnCurb  Alive   Good   \n",
       "\n",
       "                            spc_latin       spc_common  ...     state  \\\n",
       "0                         Acer rubrum        red maple  ...  New York   \n",
       "1                   Quercus palustris          pin oak  ...  New York   \n",
       "2  Gleditsia triacanthos var. inermis      honeylocust  ...  New York   \n",
       "3  Gleditsia triacanthos var. inermis      honeylocust  ...  New York   \n",
       "4                     Tilia americana  American linden  ...  New York   \n",
       "\n",
       "    latitude  longitude         x_sp         y_sp council district  \\\n",
       "0  40.723092 -73.844215  1027431.148  202756.7687             29.0   \n",
       "1  40.794111 -73.818679  1034455.701  228644.8374             19.0   \n",
       "2  40.717581 -73.936608  1001822.831  200716.8913             34.0   \n",
       "3  40.713537 -73.934456  1002420.358  199244.2531             34.0   \n",
       "4  40.666778 -73.975979   990913.775  182202.4260             39.0   \n",
       "\n",
       "  census tract        bin           bbl Address Street Name  \n",
       "0        739.0  4052307.0  4.022210e+09            70TH AVE  \n",
       "1        973.0  4101931.0  4.044750e+09             7TH AVE  \n",
       "2        449.0  3338310.0  3.028870e+09          MORGAN AVE  \n",
       "3        449.0  3338342.0  3.029250e+09            GRAND ST  \n",
       "4        165.0  3025654.0  3.010850e+09              6TH ST  \n",
       "\n",
       "[5 rows x 46 columns]"
      ]
     },
     "execution_count": 48,
     "metadata": {},
     "output_type": "execute_result"
    }
   ],
   "source": [
    "tree_df = pd.read_csv('2015_Street_Tree_Census_-_Tree_Data_20231020.csv')\n",
    "\n",
    "# new column called street name to match business df\n",
    "def get_street_name(address):\n",
    "    street_name = address.split(' ')[1:]\n",
    "    street_name = ' '.join(street_name)\n",
    "    street_name = street_name.replace('AVENUE', 'AVE').replace('STREET', 'ST')\n",
    "\n",
    "    # Append \"TH\" to the end of numbers\n",
    "    street_name = re.sub(r\"(\\d+)\", r\"\\1TH\", street_name)\n",
    "\n",
    "    return street_name\n",
    "tree_df['Address Street Name'] = tree_df['address'].apply(get_street_name)\n",
    "tree_df.head()"
   ]
  },
  {
   "cell_type": "markdown",
   "metadata": {},
   "source": [
    "### Combining the 2 datasets"
   ]
  },
  {
   "cell_type": "code",
   "execution_count": 49,
   "metadata": {},
   "outputs": [],
   "source": [
    "def merge_datasets(tree_df, business_df):\n",
    "    # Merge the tree and business datasets\n",
    "    business_df = business_df[business_df['Address Street Name'].notna()]\n",
    "    business_df = business_df[business_df['License Status'] == \"Active\"]\n",
    "    business_count_df = business_df.groupby(\"Address Street Name\").size().reset_index(name=\"Number of Businesses\")\n",
    "    merged_df = tree_df.merge(business_count_df, on='Address Street Name', how='inner')\n",
    "    return merged_df"
   ]
  },
  {
   "cell_type": "code",
   "execution_count": 50,
   "metadata": {},
   "outputs": [
    {
     "name": "stderr",
     "output_type": "stream",
     "text": [
      "C:\\Users\\xchen\\AppData\\Local\\Temp\\ipykernel_23480\\793347406.py:1: DtypeWarning: Columns (19,20) have mixed types. Specify dtype option on import or set low_memory=False.\n",
      "  business_df = pd.read_csv('Legally_Operating_Businesses_20231020.csv')\n"
     ]
    }
   ],
   "source": [
    "business_df = pd.read_csv('Legally_Operating_Businesses_20231020.csv')\n",
    "merged_df = merge_datasets(tree_df, business_df)"
   ]
  },
  {
   "cell_type": "markdown",
   "metadata": {},
   "source": [
    "### Box plot showing tree diameter"
   ]
  },
  {
   "cell_type": "code",
   "execution_count": 51,
   "metadata": {},
   "outputs": [
    {
     "data": {
      "image/png": "[encoded data removed]",
      "text/plain": [
       "<Figure size 640x480 with 1 Axes>"
      ]
     },
     "metadata": {},
     "output_type": "display_data"
    }
   ],
   "source": [
    "sns.boxplot(data=merged_df, x='tree_dbh')\n",
    "plt.xlabel('Tree Diameter')\n",
    "plt.title('Tree diameter distribution')\n",
    "plt.show()"
   ]
  },
  {
   "cell_type": "markdown",
   "metadata": {},
   "source": [
    "### Pie chart showing distrubution of tree health by percentage"
   ]
  },
  {
   "cell_type": "code",
   "execution_count": 52,
   "metadata": {},
   "outputs": [
    {
     "data": {
      "image/png": "[encoded data removed]",
      "text/plain": [
       "<Figure size 640x480 with 1 Axes>"
      ]
     },
     "metadata": {},
     "output_type": "display_data"
    }
   ],
   "source": [
    "merged_df['health'].value_counts().plot(kind='pie', autopct='%1.1f%%')\n",
    "plt.axis('equal')\n",
    "plt.show()\n"
   ]
  },
  {
   "cell_type": "markdown",
   "metadata": {},
   "source": [
    "### Bar chart showing distribution of tree health by borough by count"
   ]
  },
  {
   "cell_type": "code",
   "execution_count": 53,
   "metadata": {},
   "outputs": [
    {
     "data": {
      "image/png": "[encoded data removed]",
      "text/plain": [
       "<Figure size 640x480 with 1 Axes>"
      ]
     },
     "metadata": {},
     "output_type": "display_data"
    }
   ],
   "source": [
    "sns.countplot(data=merged_df, x='health', hue='borough')\n",
    "plt.title('Health Status Distribution by Borough')\n",
    "plt.show()\n"
   ]
  },
  {
   "cell_type": "markdown",
   "metadata": {},
   "source": [
    "# Viewing dataframe"
   ]
  },
  {
   "cell_type": "code",
   "execution_count": 54,
   "metadata": {},
   "outputs": [
    {
     "data": {
      "text/plain": [
       "array(['Fair', 'Good', nan, 'Poor'], dtype=object)"
      ]
     },
     "execution_count": 54,
     "metadata": {},
     "output_type": "execute_result"
    }
   ],
   "source": [
    "# Check unique values for tree health\n",
    "merged_df['health'].unique()"
   ]
  },
  {
   "cell_type": "code",
   "execution_count": 55,
   "metadata": {},
   "outputs": [
    {
     "data": {
      "text/plain": [
       "array(['OnCurb', 'OffsetFromCurb'], dtype=object)"
      ]
     },
     "execution_count": 55,
     "metadata": {},
     "output_type": "execute_result"
    }
   ],
   "source": [
    "merged_df['curb_loc'].unique()"
   ]
  },
  {
   "cell_type": "code",
   "execution_count": 56,
   "metadata": {},
   "outputs": [
    {
     "name": "stdout",
     "output_type": "stream",
     "text": [
      "364664\n"
     ]
    }
   ],
   "source": [
    "print(len(merged_df))"
   ]
  },
  {
   "cell_type": "code",
   "execution_count": 57,
   "metadata": {},
   "outputs": [
    {
     "data": {
      "text/plain": [
       "[\"'Schubert' chokecherry\",\n",
       " 'American beech',\n",
       " 'American elm',\n",
       " 'American hophornbeam',\n",
       " 'American hornbeam',\n",
       " 'American larch',\n",
       " 'American linden',\n",
       " 'Amur cork tree',\n",
       " 'Amur maackia',\n",
       " 'Amur maple',\n",
       " 'Atlantic white cedar',\n",
       " 'Atlas cedar',\n",
       " 'Callery pear',\n",
       " 'Chinese chestnut',\n",
       " 'Chinese elm',\n",
       " 'Chinese fringetree',\n",
       " 'Chinese tree lilac',\n",
       " 'Cornelian cherry',\n",
       " 'Douglas-fir',\n",
       " 'English oak',\n",
       " 'European alder',\n",
       " 'European beech',\n",
       " 'European hornbeam',\n",
       " 'Himalayan cedar',\n",
       " 'Japanese hornbeam',\n",
       " 'Japanese maple',\n",
       " 'Japanese snowbell',\n",
       " 'Japanese tree lilac',\n",
       " 'Japanese zelkova',\n",
       " 'Kentucky coffeetree',\n",
       " 'Kentucky yellowwood',\n",
       " 'London planetree',\n",
       " 'Norway maple',\n",
       " 'Norway spruce',\n",
       " 'Ohio buckeye',\n",
       " 'Oklahoma redbud',\n",
       " 'Osage-orange',\n",
       " 'Persian ironwood',\n",
       " \"Schumard's oak\",\n",
       " 'Scots pine',\n",
       " 'Shantung maple',\n",
       " 'Siberian elm',\n",
       " 'Sophora',\n",
       " 'Turkish hazelnut',\n",
       " 'Virginia pine',\n",
       " 'arborvitae',\n",
       " 'ash',\n",
       " 'bald cypress',\n",
       " 'bigtooth aspen',\n",
       " 'black cherry',\n",
       " 'black locust',\n",
       " 'black maple',\n",
       " 'black oak',\n",
       " 'black pine',\n",
       " 'black walnut',\n",
       " 'blackgum',\n",
       " 'blue spruce',\n",
       " 'boxelder',\n",
       " 'bur oak',\n",
       " 'catalpa',\n",
       " 'cherry',\n",
       " 'cockspur hawthorn',\n",
       " 'common hackberry',\n",
       " 'crab apple',\n",
       " 'crepe myrtle',\n",
       " 'crimson king maple',\n",
       " 'cucumber magnolia',\n",
       " 'dawn redwood',\n",
       " 'eastern cottonwood',\n",
       " 'eastern hemlock',\n",
       " 'eastern redbud',\n",
       " 'eastern redcedar',\n",
       " 'empress tree',\n",
       " 'false cypress',\n",
       " 'flowering dogwood',\n",
       " 'ginkgo',\n",
       " 'golden raintree',\n",
       " 'green ash',\n",
       " 'hardy rubber tree',\n",
       " 'hawthorn',\n",
       " 'hedge maple',\n",
       " 'holly',\n",
       " 'honeylocust',\n",
       " 'horse chestnut',\n",
       " 'katsura tree',\n",
       " 'kousa dogwood',\n",
       " 'littleleaf linden',\n",
       " 'magnolia',\n",
       " 'maple',\n",
       " 'mimosa',\n",
       " 'mulberry',\n",
       " 'nan',\n",
       " 'northern red oak',\n",
       " 'pagoda dogwood',\n",
       " 'paper birch',\n",
       " 'paperbark maple',\n",
       " 'pignut hickory',\n",
       " 'pin oak',\n",
       " 'pine',\n",
       " 'pitch pine',\n",
       " 'pond cypress',\n",
       " 'purple-leaf plum',\n",
       " 'quaking aspen',\n",
       " 'red horse chestnut',\n",
       " 'red maple',\n",
       " 'red pine',\n",
       " 'river birch',\n",
       " 'sassafras',\n",
       " 'sawtooth oak',\n",
       " 'scarlet oak',\n",
       " 'serviceberry',\n",
       " 'shingle oak',\n",
       " 'silver birch',\n",
       " 'silver linden',\n",
       " 'silver maple',\n",
       " 'smoketree',\n",
       " 'southern magnolia',\n",
       " 'southern red oak',\n",
       " 'spruce',\n",
       " 'sugar maple',\n",
       " 'swamp white oak',\n",
       " 'sweetgum',\n",
       " 'sycamore maple',\n",
       " 'tartar maple',\n",
       " 'tree of heaven',\n",
       " 'trident maple',\n",
       " 'tulip-poplar',\n",
       " 'two-winged silverbell',\n",
       " 'weeping willow',\n",
       " 'white ash',\n",
       " 'white oak',\n",
       " 'white pine',\n",
       " 'willow oak']"
      ]
     },
     "execution_count": 57,
     "metadata": {},
     "output_type": "execute_result"
    }
   ],
   "source": [
    "unique_trees = merged_df['spc_common'].unique()\n",
    "unique_trees = [str(value) for value in unique_trees]\n",
    "unique_trees = sorted(unique_trees)\n",
    "unique_trees"
   ]
  },
  {
   "cell_type": "code",
   "execution_count": 58,
   "metadata": {},
   "outputs": [
    {
     "name": "stdout",
     "output_type": "stream",
     "text": [
      "133\n"
     ]
    }
   ],
   "source": [
    "print(len(unique_trees))"
   ]
  },
  {
   "cell_type": "code",
   "execution_count": 59,
   "metadata": {},
   "outputs": [
    {
     "data": {
      "text/plain": [
       "array(['QN17', 'QN37', 'QN20', 'QN19', 'QN49', 'BK37', 'BK64', 'BK31',\n",
       "       'BK32', 'BK34', 'MN11', 'QN23', 'BK30', 'MN03', 'BK40', 'MN17',\n",
       "       'MN13', 'MN23', 'BK90', 'BX31', 'BK78', 'BK76', 'BK77', 'BK73',\n",
       "       'MN28', 'MN24', 'MN27', 'MN14', 'MN12', 'MN09', 'SI14', 'BX40',\n",
       "       'BX30', 'BX36', 'BX41', 'BX63', 'BX26', 'BX43', 'SI36', 'BK17',\n",
       "       'BX28', 'BX05', 'QN72', 'QN70', 'QN68', 'QN31', 'BK69', 'BK68',\n",
       "       'BK81', 'QN22', 'BK33', 'BK63', 'QN52', 'BK61', 'QN51', 'BK75',\n",
       "       'QN54', 'BK38', 'SI35', 'SI22', 'BK35', 'BK29', 'QN27', 'QN63',\n",
       "       'QN28', 'QN47', 'BK42', 'BK96', 'BK95', 'BK91', 'BK41', 'BK60',\n",
       "       'BK88', 'SI05', 'QN25', 'QN57', 'QN10', 'QN26', 'QN53', 'QN56',\n",
       "       'SI32', 'BX06', 'BX17', 'BX35', 'BX33', 'BX34', 'BX75', 'QN45',\n",
       "       'MN36', 'MN04', 'QN50', 'BX29', 'QN29', 'MN06', 'MN35', 'MN01',\n",
       "       'BX22', 'BK79', 'QN71', 'SI25', 'MN15', 'QN60', 'QN55', 'MN40',\n",
       "       'MN33', 'MN34', 'MN20', 'BK46', 'BK28', 'BK26', 'BK44', 'SI45',\n",
       "       'BK72', 'BK43', 'QN62', 'QN30', 'QN48', 'QN42', 'QN21', 'BX14',\n",
       "       'BX39', 'QN41', 'QN44', 'QN38', 'QN18', 'BK82', 'BK23', 'BK25',\n",
       "       'BK19', 'BK21', 'BK83', 'QN61', 'QN46', 'BK45', 'BK58', 'SI01',\n",
       "       'BK50', 'QN05', 'SI48', 'MN19', 'BX01', 'SI28', 'QN03', 'QN66',\n",
       "       'QN34', 'QN33', 'BX62', 'QN08', 'QN35', 'BK27', 'QN43', 'BX52',\n",
       "       'SI54', 'SI12', 'SI24', 'BK09', 'MN22', 'MN25', 'SI37', 'SI08',\n",
       "       'BX10', 'QN02', 'QN01', 'QN76', 'SI07', 'BX49', 'BX37', 'BK85',\n",
       "       'QN12', 'BK93', 'BX27', 'BX03', 'MN21', 'BX08', 'BX09', 'BX55',\n",
       "       'QN06', 'SI11', 'QN15', 'MN31', 'MN32', 'QN07', 'BX44', 'BX13',\n",
       "       'BX46', 'BX59', 'BX07'], dtype=object)"
      ]
     },
     "execution_count": 59,
     "metadata": {},
     "output_type": "execute_result"
    }
   ],
   "source": [
    "merged_df['nta'].unique()"
   ]
  },
  {
   "cell_type": "markdown",
   "metadata": {},
   "source": []
  },
  {
   "cell_type": "code",
   "execution_count": 60,
   "metadata": {},
   "outputs": [
    {
     "name": "stdout",
     "output_type": "stream",
     "text": [
      "26\n",
      "2091\n",
      "65\n",
      "51\n",
      "187\n"
     ]
    }
   ],
   "source": [
    "print(len(merged_df['st_senate'].unique()))\n",
    "print(len(merged_df['boro_ct'].unique()))\n",
    "print(len(merged_df['st_assem'].unique()))\n",
    "print(len(merged_df['cncldist'].unique()))\n",
    "print(len(merged_df['postcode'].unique()))\n"
   ]
  },
  {
   "cell_type": "markdown",
   "metadata": {},
   "source": [
    "# Cleaning dataset"
   ]
  },
  {
   "cell_type": "code",
   "execution_count": 61,
   "metadata": {},
   "outputs": [
    {
     "name": "stdout",
     "output_type": "stream",
     "text": [
      "steward 262718\n",
      "guards 308627\n",
      "problems 225598\n"
     ]
    }
   ],
   "source": [
    "cleaned_df = merged_df.dropna(subset=['health', 'latitude', 'longitude'])\n",
    "\n",
    "# drop inital columns that are not useful\n",
    "drop_cols = ['nta_name', 'state', 'created_at', 'bbl', 'bin', 'census tract', 'address', \n",
    "             'tree_id', 'block_id', 'spc_latin', 'borough', 'status', 'zip_city', \n",
    "             \"Address Street Name\", 'nta', 'boro_ct', 'postcode', 'st_assem']\n",
    "\n",
    "# check for columns with missing values\n",
    "for col in cleaned_df.columns:\n",
    "    missing_count = cleaned_df[col].isna().sum()\n",
    "    # if more than 30% missing, drop the column\n",
    "    if missing_count > cleaned_df.shape[0] * 0.3:\n",
    "        print(col, missing_count)\n",
    "        drop_cols.append(col)\n",
    "# Drop all the columns in drop_cols\n",
    "cleaned_df = cleaned_df.drop(columns=drop_cols)"
   ]
  },
  {
   "cell_type": "code",
   "execution_count": 62,
   "metadata": {},
   "outputs": [
    {
     "name": "stdout",
     "output_type": "stream",
     "text": [
      "spc_common 2\n",
      "sidewalk 1\n",
      "council district 1987\n"
     ]
    }
   ],
   "source": [
    "for col in cleaned_df.columns:\n",
    "    missing_count = cleaned_df[col].isna().sum()\n",
    "    if missing_count > 0:\n",
    "        print(col, missing_count)"
   ]
  },
  {
   "cell_type": "code",
   "execution_count": 63,
   "metadata": {},
   "outputs": [],
   "source": [
    "# only 1 missing value for sidewalk so just drop it, same for spc_common\n",
    "nan_count = cleaned_df['sidewalk'].isna().sum()\n",
    "nan_count\n",
    "cleaned_df = cleaned_df.dropna(subset=['sidewalk', 'spc_common'])"
   ]
  },
  {
   "cell_type": "code",
   "execution_count": 64,
   "metadata": {},
   "outputs": [],
   "source": [
    "# impute council district with the most popular one\n",
    "mode_council_district = cleaned_df['council district'].mode()[0]\n",
    "cleaned_df['council district'].fillna(mode_council_district, inplace=True)"
   ]
  },
  {
   "cell_type": "code",
   "execution_count": 65,
   "metadata": {},
   "outputs": [],
   "source": [
    "# Drop rows where tree health is missing\n",
    "cleaned_df = cleaned_df.dropna(subset=['health'])"
   ]
  },
  {
   "cell_type": "code",
   "execution_count": 66,
   "metadata": {},
   "outputs": [],
   "source": [
    "cleaned_df.to_csv('cleaned_data.csv', index=False)\n"
   ]
  },
  {
   "cell_type": "markdown",
   "metadata": {},
   "source": []
  },
  {
   "cell_type": "code",
   "execution_count": 67,
   "metadata": {},
   "outputs": [
    {
     "data": {
      "text/html": [
       "<div>\n",
       "<style scoped>\n",
       "    .dataframe tbody tr th:only-of-type {\n",
       "        vertical-align: middle;\n",
       "    }\n",
       "\n",
       "    .dataframe tbody tr th {\n",
       "        vertical-align: top;\n",
       "    }\n",
       "\n",
       "    .dataframe thead th {\n",
       "        text-align: right;\n",
       "    }\n",
       "</style>\n",
       "<table border=\"1\" class=\"dataframe\">\n",
       "  <thead>\n",
       "    <tr style=\"text-align: right;\">\n",
       "      <th></th>\n",
       "      <th>tree_dbh</th>\n",
       "      <th>stump_diam</th>\n",
       "      <th>curb_loc</th>\n",
       "      <th>health</th>\n",
       "      <th>spc_common</th>\n",
       "      <th>sidewalk</th>\n",
       "      <th>user_type</th>\n",
       "      <th>root_stone</th>\n",
       "      <th>root_grate</th>\n",
       "      <th>root_other</th>\n",
       "      <th>...</th>\n",
       "      <th>community board</th>\n",
       "      <th>borocode</th>\n",
       "      <th>cncldist</th>\n",
       "      <th>st_senate</th>\n",
       "      <th>latitude</th>\n",
       "      <th>longitude</th>\n",
       "      <th>x_sp</th>\n",
       "      <th>y_sp</th>\n",
       "      <th>council district</th>\n",
       "      <th>Number of Businesses</th>\n",
       "    </tr>\n",
       "  </thead>\n",
       "  <tbody>\n",
       "    <tr>\n",
       "      <th>0</th>\n",
       "      <td>3</td>\n",
       "      <td>0</td>\n",
       "      <td>OnCurb</td>\n",
       "      <td>Fair</td>\n",
       "      <td>red maple</td>\n",
       "      <td>NoDamage</td>\n",
       "      <td>TreesCount Staff</td>\n",
       "      <td>No</td>\n",
       "      <td>No</td>\n",
       "      <td>No</td>\n",
       "      <td>...</td>\n",
       "      <td>406</td>\n",
       "      <td>4</td>\n",
       "      <td>29</td>\n",
       "      <td>16</td>\n",
       "      <td>40.723092</td>\n",
       "      <td>-73.844215</td>\n",
       "      <td>1027431.148</td>\n",
       "      <td>202756.7687</td>\n",
       "      <td>29.0</td>\n",
       "      <td>3</td>\n",
       "    </tr>\n",
       "    <tr>\n",
       "      <th>1</th>\n",
       "      <td>26</td>\n",
       "      <td>0</td>\n",
       "      <td>OnCurb</td>\n",
       "      <td>Good</td>\n",
       "      <td>London planetree</td>\n",
       "      <td>Damage</td>\n",
       "      <td>Volunteer</td>\n",
       "      <td>Yes</td>\n",
       "      <td>No</td>\n",
       "      <td>No</td>\n",
       "      <td>...</td>\n",
       "      <td>406</td>\n",
       "      <td>4</td>\n",
       "      <td>29</td>\n",
       "      <td>15</td>\n",
       "      <td>40.712641</td>\n",
       "      <td>-73.852138</td>\n",
       "      <td>1025241.512</td>\n",
       "      <td>198945.4690</td>\n",
       "      <td>29.0</td>\n",
       "      <td>3</td>\n",
       "    </tr>\n",
       "    <tr>\n",
       "      <th>2</th>\n",
       "      <td>23</td>\n",
       "      <td>0</td>\n",
       "      <td>OnCurb</td>\n",
       "      <td>Good</td>\n",
       "      <td>London planetree</td>\n",
       "      <td>Damage</td>\n",
       "      <td>Volunteer</td>\n",
       "      <td>Yes</td>\n",
       "      <td>No</td>\n",
       "      <td>No</td>\n",
       "      <td>...</td>\n",
       "      <td>406</td>\n",
       "      <td>4</td>\n",
       "      <td>29</td>\n",
       "      <td>15</td>\n",
       "      <td>40.712697</td>\n",
       "      <td>-73.852103</td>\n",
       "      <td>1025251.111</td>\n",
       "      <td>198965.7081</td>\n",
       "      <td>29.0</td>\n",
       "      <td>3</td>\n",
       "    </tr>\n",
       "    <tr>\n",
       "      <th>3</th>\n",
       "      <td>6</td>\n",
       "      <td>0</td>\n",
       "      <td>OnCurb</td>\n",
       "      <td>Good</td>\n",
       "      <td>London planetree</td>\n",
       "      <td>Damage</td>\n",
       "      <td>Volunteer</td>\n",
       "      <td>No</td>\n",
       "      <td>No</td>\n",
       "      <td>No</td>\n",
       "      <td>...</td>\n",
       "      <td>406</td>\n",
       "      <td>4</td>\n",
       "      <td>29</td>\n",
       "      <td>15</td>\n",
       "      <td>40.714987</td>\n",
       "      <td>-73.850661</td>\n",
       "      <td>1025649.379</td>\n",
       "      <td>199800.7215</td>\n",
       "      <td>29.0</td>\n",
       "      <td>3</td>\n",
       "    </tr>\n",
       "    <tr>\n",
       "      <th>4</th>\n",
       "      <td>15</td>\n",
       "      <td>0</td>\n",
       "      <td>OnCurb</td>\n",
       "      <td>Good</td>\n",
       "      <td>honeylocust</td>\n",
       "      <td>NoDamage</td>\n",
       "      <td>Volunteer</td>\n",
       "      <td>No</td>\n",
       "      <td>No</td>\n",
       "      <td>No</td>\n",
       "      <td>...</td>\n",
       "      <td>406</td>\n",
       "      <td>4</td>\n",
       "      <td>29</td>\n",
       "      <td>15</td>\n",
       "      <td>40.717602</td>\n",
       "      <td>-73.849151</td>\n",
       "      <td>1026066.572</td>\n",
       "      <td>200754.3397</td>\n",
       "      <td>29.0</td>\n",
       "      <td>3</td>\n",
       "    </tr>\n",
       "  </tbody>\n",
       "</table>\n",
       "<p>5 rows × 26 columns</p>\n",
       "</div>"
      ],
      "text/plain": [
       "   tree_dbh  stump_diam curb_loc health        spc_common  sidewalk  \\\n",
       "0         3           0   OnCurb   Fair         red maple  NoDamage   \n",
       "1        26           0   OnCurb   Good  London planetree    Damage   \n",
       "2        23           0   OnCurb   Good  London planetree    Damage   \n",
       "3         6           0   OnCurb   Good  London planetree    Damage   \n",
       "4        15           0   OnCurb   Good       honeylocust  NoDamage   \n",
       "\n",
       "          user_type root_stone root_grate root_other  ... community board  \\\n",
       "0  TreesCount Staff         No         No         No  ...             406   \n",
       "1         Volunteer        Yes         No         No  ...             406   \n",
       "2         Volunteer        Yes         No         No  ...             406   \n",
       "3         Volunteer         No         No         No  ...             406   \n",
       "4         Volunteer         No         No         No  ...             406   \n",
       "\n",
       "  borocode cncldist st_senate   latitude  longitude         x_sp         y_sp  \\\n",
       "0        4       29        16  40.723092 -73.844215  1027431.148  202756.7687   \n",
       "1        4       29        15  40.712641 -73.852138  1025241.512  198945.4690   \n",
       "2        4       29        15  40.712697 -73.852103  1025251.111  198965.7081   \n",
       "3        4       29        15  40.714987 -73.850661  1025649.379  199800.7215   \n",
       "4        4       29        15  40.717602 -73.849151  1026066.572  200754.3397   \n",
       "\n",
       "   council district  Number of Businesses  \n",
       "0              29.0                     3  \n",
       "1              29.0                     3  \n",
       "2              29.0                     3  \n",
       "3              29.0                     3  \n",
       "4              29.0                     3  \n",
       "\n",
       "[5 rows x 26 columns]"
      ]
     },
     "execution_count": 67,
     "metadata": {},
     "output_type": "execute_result"
    }
   ],
   "source": [
    "cleaned_df.head()"
   ]
  },
  {
   "cell_type": "markdown",
   "metadata": {},
   "source": [
    "# Create a map visualization"
   ]
  },
  {
   "cell_type": "code",
   "execution_count": 68,
   "metadata": {},
   "outputs": [],
   "source": [
    "cleaned_df = cleaned_df.dropna(subset=['latitude', 'longitude'])\n",
    "\n",
    "subset_data = cleaned_df.sample(n=min(10000, len(cleaned_df)), random_state=1)\n",
    "m = folium.Map(location=[subset_data.iloc[0]['latitude'], subset_data.iloc[0]['longitude']], zoom_start=13)\n",
    "\n",
    "# Function to choose a color based on the health of the tree\n",
    "def color_producer(health_status):\n",
    "    if health_status == 'Good':\n",
    "        return 'green'\n",
    "    elif health_status == 'Fair':\n",
    "        return 'orange'\n",
    "    elif health_status == 'Poor':\n",
    "        return 'red'\n",
    "    \n",
    "# Add points to the map\n",
    "for idx, row in subset_data.iterrows():\n",
    "    folium.CircleMarker(\n",
    "        location=[row['latitude'], row['longitude']],\n",
    "        radius=5,\n",
    "        color=color_producer(row['health']),\n",
    "        fill=True,\n",
    "        fill_color=color_producer(row['health']),\n",
    "        fill_opacity=0.7,\n",
    "        popup=f\"Health: {row['health']}<br>Species: {row['spc_common']}\"\n",
    "    ).add_to(m)\n",
    "\n",
    "# Create a legend\n",
    "legend_html = '''\n",
    "<div style=\"position: fixed; \n",
    "     bottom: 50px; left: 50px; width: 150px; height: 90px; \n",
    "     border:2px solid grey; z-index:9999; font-size:14px; background-color: white;\n",
    "     \">&nbsp; <b>Tree Health Legend</b> <br>\n",
    "     &nbsp; Green: Good <br>\n",
    "     &nbsp; Orange: Fair <br>\n",
    "     &nbsp; Red: Poor <br>\n",
    "</div>\n",
    "''' \n",
    "\n",
    "# Add the legend to the map\n",
    "m.get_root().html.add_child(folium.Element(legend_html))\n",
    "\n",
    "# Save the updated map with a legend\n",
    "m.save('tree_health_map.html')"
   ]
  },
  {
   "cell_type": "markdown",
   "metadata": {},
   "source": [
    "# Data Transformation"
   ]
  },
  {
   "cell_type": "code",
   "execution_count": 69,
   "metadata": {},
   "outputs": [],
   "source": [
    "# convert curb_loc to numeric\n",
    "cleaned_df['curb_loc'] = cleaned_df['curb_loc'].apply(lambda x: 1 if x == 'OnCurb' else 0)"
   ]
  },
  {
   "cell_type": "code",
   "execution_count": 70,
   "metadata": {},
   "outputs": [],
   "source": [
    "# convert tree health to numeric\n",
    "health_encoding = {'Good': 1, 'Fair': 0, 'Poor': 0}\n",
    "cleaned_df['health'] = cleaned_df['health'].map(health_encoding)"
   ]
  },
  {
   "cell_type": "code",
   "execution_count": 71,
   "metadata": {},
   "outputs": [],
   "source": [
    "# convert sidewalk to numeric\n",
    "cleaned_df['sidewalk'] = cleaned_df['sidewalk'].apply(lambda x: 1 if x == 'Damage' else 0)"
   ]
  },
  {
   "cell_type": "code",
   "execution_count": 72,
   "metadata": {},
   "outputs": [],
   "source": [
    "# one hot encode user_type\n",
    "cleaned_df = pd.get_dummies(cleaned_df, columns=['user_type'], dtype=int)\n"
   ]
  },
  {
   "cell_type": "code",
   "execution_count": 73,
   "metadata": {},
   "outputs": [],
   "source": [
    "# remove latitude and longitude columns for model\n",
    "cleaned_df = cleaned_df.drop(columns=['latitude', 'longitude', 'y_sp', 'x_sp'])"
   ]
  },
  {
   "cell_type": "code",
   "execution_count": 74,
   "metadata": {},
   "outputs": [
    {
     "data": {
      "text/html": [
       "<div>\n",
       "<style scoped>\n",
       "    .dataframe tbody tr th:only-of-type {\n",
       "        vertical-align: middle;\n",
       "    }\n",
       "\n",
       "    .dataframe tbody tr th {\n",
       "        vertical-align: top;\n",
       "    }\n",
       "\n",
       "    .dataframe thead th {\n",
       "        text-align: right;\n",
       "    }\n",
       "</style>\n",
       "<table border=\"1\" class=\"dataframe\">\n",
       "  <thead>\n",
       "    <tr style=\"text-align: right;\">\n",
       "      <th></th>\n",
       "      <th>tree_dbh</th>\n",
       "      <th>stump_diam</th>\n",
       "      <th>curb_loc</th>\n",
       "      <th>health</th>\n",
       "      <th>spc_common</th>\n",
       "      <th>sidewalk</th>\n",
       "      <th>root_stone</th>\n",
       "      <th>root_grate</th>\n",
       "      <th>root_other</th>\n",
       "      <th>trunk_wire</th>\n",
       "      <th>...</th>\n",
       "      <th>brch_other</th>\n",
       "      <th>community board</th>\n",
       "      <th>borocode</th>\n",
       "      <th>cncldist</th>\n",
       "      <th>st_senate</th>\n",
       "      <th>council district</th>\n",
       "      <th>Number of Businesses</th>\n",
       "      <th>user_type_NYC Parks Staff</th>\n",
       "      <th>user_type_TreesCount Staff</th>\n",
       "      <th>user_type_Volunteer</th>\n",
       "    </tr>\n",
       "  </thead>\n",
       "  <tbody>\n",
       "    <tr>\n",
       "      <th>0</th>\n",
       "      <td>3</td>\n",
       "      <td>0</td>\n",
       "      <td>1</td>\n",
       "      <td>0</td>\n",
       "      <td>red maple</td>\n",
       "      <td>0</td>\n",
       "      <td>No</td>\n",
       "      <td>No</td>\n",
       "      <td>No</td>\n",
       "      <td>No</td>\n",
       "      <td>...</td>\n",
       "      <td>No</td>\n",
       "      <td>406</td>\n",
       "      <td>4</td>\n",
       "      <td>29</td>\n",
       "      <td>16</td>\n",
       "      <td>29.0</td>\n",
       "      <td>3</td>\n",
       "      <td>0</td>\n",
       "      <td>1</td>\n",
       "      <td>0</td>\n",
       "    </tr>\n",
       "    <tr>\n",
       "      <th>1</th>\n",
       "      <td>26</td>\n",
       "      <td>0</td>\n",
       "      <td>1</td>\n",
       "      <td>1</td>\n",
       "      <td>London planetree</td>\n",
       "      <td>1</td>\n",
       "      <td>Yes</td>\n",
       "      <td>No</td>\n",
       "      <td>No</td>\n",
       "      <td>No</td>\n",
       "      <td>...</td>\n",
       "      <td>No</td>\n",
       "      <td>406</td>\n",
       "      <td>4</td>\n",
       "      <td>29</td>\n",
       "      <td>15</td>\n",
       "      <td>29.0</td>\n",
       "      <td>3</td>\n",
       "      <td>0</td>\n",
       "      <td>0</td>\n",
       "      <td>1</td>\n",
       "    </tr>\n",
       "    <tr>\n",
       "      <th>2</th>\n",
       "      <td>23</td>\n",
       "      <td>0</td>\n",
       "      <td>1</td>\n",
       "      <td>1</td>\n",
       "      <td>London planetree</td>\n",
       "      <td>1</td>\n",
       "      <td>Yes</td>\n",
       "      <td>No</td>\n",
       "      <td>No</td>\n",
       "      <td>No</td>\n",
       "      <td>...</td>\n",
       "      <td>No</td>\n",
       "      <td>406</td>\n",
       "      <td>4</td>\n",
       "      <td>29</td>\n",
       "      <td>15</td>\n",
       "      <td>29.0</td>\n",
       "      <td>3</td>\n",
       "      <td>0</td>\n",
       "      <td>0</td>\n",
       "      <td>1</td>\n",
       "    </tr>\n",
       "    <tr>\n",
       "      <th>3</th>\n",
       "      <td>6</td>\n",
       "      <td>0</td>\n",
       "      <td>1</td>\n",
       "      <td>1</td>\n",
       "      <td>London planetree</td>\n",
       "      <td>1</td>\n",
       "      <td>No</td>\n",
       "      <td>No</td>\n",
       "      <td>No</td>\n",
       "      <td>Yes</td>\n",
       "      <td>...</td>\n",
       "      <td>Yes</td>\n",
       "      <td>406</td>\n",
       "      <td>4</td>\n",
       "      <td>29</td>\n",
       "      <td>15</td>\n",
       "      <td>29.0</td>\n",
       "      <td>3</td>\n",
       "      <td>0</td>\n",
       "      <td>0</td>\n",
       "      <td>1</td>\n",
       "    </tr>\n",
       "    <tr>\n",
       "      <th>4</th>\n",
       "      <td>15</td>\n",
       "      <td>0</td>\n",
       "      <td>1</td>\n",
       "      <td>1</td>\n",
       "      <td>honeylocust</td>\n",
       "      <td>0</td>\n",
       "      <td>No</td>\n",
       "      <td>No</td>\n",
       "      <td>No</td>\n",
       "      <td>No</td>\n",
       "      <td>...</td>\n",
       "      <td>No</td>\n",
       "      <td>406</td>\n",
       "      <td>4</td>\n",
       "      <td>29</td>\n",
       "      <td>15</td>\n",
       "      <td>29.0</td>\n",
       "      <td>3</td>\n",
       "      <td>0</td>\n",
       "      <td>0</td>\n",
       "      <td>1</td>\n",
       "    </tr>\n",
       "  </tbody>\n",
       "</table>\n",
       "<p>5 rows × 24 columns</p>\n",
       "</div>"
      ],
      "text/plain": [
       "   tree_dbh  stump_diam  curb_loc  health        spc_common  sidewalk  \\\n",
       "0         3           0         1       0         red maple         0   \n",
       "1        26           0         1       1  London planetree         1   \n",
       "2        23           0         1       1  London planetree         1   \n",
       "3         6           0         1       1  London planetree         1   \n",
       "4        15           0         1       1       honeylocust         0   \n",
       "\n",
       "  root_stone root_grate root_other trunk_wire  ... brch_other community board  \\\n",
       "0         No         No         No         No  ...         No             406   \n",
       "1        Yes         No         No         No  ...         No             406   \n",
       "2        Yes         No         No         No  ...         No             406   \n",
       "3         No         No         No        Yes  ...        Yes             406   \n",
       "4         No         No         No         No  ...         No             406   \n",
       "\n",
       "  borocode cncldist st_senate  council district  Number of Businesses  \\\n",
       "0        4       29        16              29.0                     3   \n",
       "1        4       29        15              29.0                     3   \n",
       "2        4       29        15              29.0                     3   \n",
       "3        4       29        15              29.0                     3   \n",
       "4        4       29        15              29.0                     3   \n",
       "\n",
       "   user_type_NYC Parks Staff  user_type_TreesCount Staff  user_type_Volunteer  \n",
       "0                          0                           1                    0  \n",
       "1                          0                           0                    1  \n",
       "2                          0                           0                    1  \n",
       "3                          0                           0                    1  \n",
       "4                          0                           0                    1  \n",
       "\n",
       "[5 rows x 24 columns]"
      ]
     },
     "execution_count": 74,
     "metadata": {},
     "output_type": "execute_result"
    }
   ],
   "source": [
    "cleaned_df.head()"
   ]
  },
  {
   "cell_type": "code",
   "execution_count": 75,
   "metadata": {},
   "outputs": [
    {
     "name": "stdout",
     "output_type": "stream",
     "text": [
      "root_stone ['No' 'Yes']\n",
      "root_grate ['No' 'Yes']\n",
      "root_other ['No' 'Yes']\n",
      "trunk_wire ['No' 'Yes']\n",
      "trnk_light ['No' 'Yes']\n",
      "trnk_other ['No' 'Yes']\n",
      "brch_light ['No' 'Yes']\n",
      "brch_shoe ['No' 'Yes']\n",
      "brch_other ['No' 'Yes']\n"
     ]
    }
   ],
   "source": [
    "changed_cols = ['root_stone', 'root_grate', 'root_other', 'trunk_wire', 'trnk_light', 'trnk_other', 'brch_light', 'brch_shoe', 'brch_other']\n",
    "for col in changed_cols:\n",
    "    print(col, cleaned_df[col].unique())"
   ]
  },
  {
   "cell_type": "code",
   "execution_count": 76,
   "metadata": {},
   "outputs": [],
   "source": [
    "# change the columns with No and Yes to numerical\n",
    "changed_cols = ['root_stone', 'root_grate', 'root_other', 'trunk_wire', 'trnk_light', 'trnk_other', 'brch_light', 'brch_shoe', 'brch_other']\n",
    "for col in changed_cols:\n",
    "    cleaned_df[col] = cleaned_df[col].apply(lambda x: 1 if x == 'Yes' else 0)\n",
    "    "
   ]
  },
  {
   "cell_type": "code",
   "execution_count": 77,
   "metadata": {},
   "outputs": [
    {
     "data": {
      "text/plain": [
       "132"
      ]
     },
     "execution_count": 77,
     "metadata": {},
     "output_type": "execute_result"
    }
   ],
   "source": [
    "cleaned_df['spc_common'].nunique()\n",
    "\n"
   ]
  },
  {
   "cell_type": "markdown",
   "metadata": {},
   "source": [
    "### Convert spc_common into numerical values"
   ]
  },
  {
   "cell_type": "code",
   "execution_count": 78,
   "metadata": {},
   "outputs": [],
   "source": [
    "# encode spc_common\n",
    "from sklearn.preprocessing import LabelEncoder\n",
    "le = LabelEncoder()\n",
    "cleaned_df['spc_common_encoded'] = le.fit_transform(cleaned_df['spc_common'].astype(str))\n",
    "cleaned_df = cleaned_df.drop(columns=['spc_common'])"
   ]
  },
  {
   "cell_type": "code",
   "execution_count": 79,
   "metadata": {},
   "outputs": [
    {
     "data": {
      "text/html": [
       "<div>\n",
       "<style scoped>\n",
       "    .dataframe tbody tr th:only-of-type {\n",
       "        vertical-align: middle;\n",
       "    }\n",
       "\n",
       "    .dataframe tbody tr th {\n",
       "        vertical-align: top;\n",
       "    }\n",
       "\n",
       "    .dataframe thead th {\n",
       "        text-align: right;\n",
       "    }\n",
       "</style>\n",
       "<table border=\"1\" class=\"dataframe\">\n",
       "  <thead>\n",
       "    <tr style=\"text-align: right;\">\n",
       "      <th></th>\n",
       "      <th>tree_dbh</th>\n",
       "      <th>stump_diam</th>\n",
       "      <th>curb_loc</th>\n",
       "      <th>health</th>\n",
       "      <th>sidewalk</th>\n",
       "      <th>root_stone</th>\n",
       "      <th>root_grate</th>\n",
       "      <th>root_other</th>\n",
       "      <th>trunk_wire</th>\n",
       "      <th>trnk_light</th>\n",
       "      <th>...</th>\n",
       "      <th>community board</th>\n",
       "      <th>borocode</th>\n",
       "      <th>cncldist</th>\n",
       "      <th>st_senate</th>\n",
       "      <th>council district</th>\n",
       "      <th>Number of Businesses</th>\n",
       "      <th>user_type_NYC Parks Staff</th>\n",
       "      <th>user_type_TreesCount Staff</th>\n",
       "      <th>user_type_Volunteer</th>\n",
       "      <th>spc_common_encoded</th>\n",
       "    </tr>\n",
       "  </thead>\n",
       "  <tbody>\n",
       "    <tr>\n",
       "      <th>0</th>\n",
       "      <td>3</td>\n",
       "      <td>0</td>\n",
       "      <td>1</td>\n",
       "      <td>0</td>\n",
       "      <td>0</td>\n",
       "      <td>0</td>\n",
       "      <td>0</td>\n",
       "      <td>0</td>\n",
       "      <td>0</td>\n",
       "      <td>0</td>\n",
       "      <td>...</td>\n",
       "      <td>406</td>\n",
       "      <td>4</td>\n",
       "      <td>29</td>\n",
       "      <td>16</td>\n",
       "      <td>29.0</td>\n",
       "      <td>3</td>\n",
       "      <td>0</td>\n",
       "      <td>1</td>\n",
       "      <td>0</td>\n",
       "      <td>103</td>\n",
       "    </tr>\n",
       "    <tr>\n",
       "      <th>1</th>\n",
       "      <td>26</td>\n",
       "      <td>0</td>\n",
       "      <td>1</td>\n",
       "      <td>1</td>\n",
       "      <td>1</td>\n",
       "      <td>1</td>\n",
       "      <td>0</td>\n",
       "      <td>0</td>\n",
       "      <td>0</td>\n",
       "      <td>0</td>\n",
       "      <td>...</td>\n",
       "      <td>406</td>\n",
       "      <td>4</td>\n",
       "      <td>29</td>\n",
       "      <td>15</td>\n",
       "      <td>29.0</td>\n",
       "      <td>3</td>\n",
       "      <td>0</td>\n",
       "      <td>0</td>\n",
       "      <td>1</td>\n",
       "      <td>31</td>\n",
       "    </tr>\n",
       "    <tr>\n",
       "      <th>2</th>\n",
       "      <td>23</td>\n",
       "      <td>0</td>\n",
       "      <td>1</td>\n",
       "      <td>1</td>\n",
       "      <td>1</td>\n",
       "      <td>1</td>\n",
       "      <td>0</td>\n",
       "      <td>0</td>\n",
       "      <td>0</td>\n",
       "      <td>0</td>\n",
       "      <td>...</td>\n",
       "      <td>406</td>\n",
       "      <td>4</td>\n",
       "      <td>29</td>\n",
       "      <td>15</td>\n",
       "      <td>29.0</td>\n",
       "      <td>3</td>\n",
       "      <td>0</td>\n",
       "      <td>0</td>\n",
       "      <td>1</td>\n",
       "      <td>31</td>\n",
       "    </tr>\n",
       "    <tr>\n",
       "      <th>3</th>\n",
       "      <td>6</td>\n",
       "      <td>0</td>\n",
       "      <td>1</td>\n",
       "      <td>1</td>\n",
       "      <td>1</td>\n",
       "      <td>0</td>\n",
       "      <td>0</td>\n",
       "      <td>0</td>\n",
       "      <td>1</td>\n",
       "      <td>0</td>\n",
       "      <td>...</td>\n",
       "      <td>406</td>\n",
       "      <td>4</td>\n",
       "      <td>29</td>\n",
       "      <td>15</td>\n",
       "      <td>29.0</td>\n",
       "      <td>3</td>\n",
       "      <td>0</td>\n",
       "      <td>0</td>\n",
       "      <td>1</td>\n",
       "      <td>31</td>\n",
       "    </tr>\n",
       "    <tr>\n",
       "      <th>4</th>\n",
       "      <td>15</td>\n",
       "      <td>0</td>\n",
       "      <td>1</td>\n",
       "      <td>1</td>\n",
       "      <td>0</td>\n",
       "      <td>0</td>\n",
       "      <td>0</td>\n",
       "      <td>0</td>\n",
       "      <td>0</td>\n",
       "      <td>0</td>\n",
       "      <td>...</td>\n",
       "      <td>406</td>\n",
       "      <td>4</td>\n",
       "      <td>29</td>\n",
       "      <td>15</td>\n",
       "      <td>29.0</td>\n",
       "      <td>3</td>\n",
       "      <td>0</td>\n",
       "      <td>0</td>\n",
       "      <td>1</td>\n",
       "      <td>82</td>\n",
       "    </tr>\n",
       "  </tbody>\n",
       "</table>\n",
       "<p>5 rows × 24 columns</p>\n",
       "</div>"
      ],
      "text/plain": [
       "   tree_dbh  stump_diam  curb_loc  health  sidewalk  root_stone  root_grate  \\\n",
       "0         3           0         1       0         0           0           0   \n",
       "1        26           0         1       1         1           1           0   \n",
       "2        23           0         1       1         1           1           0   \n",
       "3         6           0         1       1         1           0           0   \n",
       "4        15           0         1       1         0           0           0   \n",
       "\n",
       "   root_other  trunk_wire  trnk_light  ...  community board  borocode  \\\n",
       "0           0           0           0  ...              406         4   \n",
       "1           0           0           0  ...              406         4   \n",
       "2           0           0           0  ...              406         4   \n",
       "3           0           1           0  ...              406         4   \n",
       "4           0           0           0  ...              406         4   \n",
       "\n",
       "   cncldist  st_senate  council district  Number of Businesses  \\\n",
       "0        29         16              29.0                     3   \n",
       "1        29         15              29.0                     3   \n",
       "2        29         15              29.0                     3   \n",
       "3        29         15              29.0                     3   \n",
       "4        29         15              29.0                     3   \n",
       "\n",
       "   user_type_NYC Parks Staff  user_type_TreesCount Staff  user_type_Volunteer  \\\n",
       "0                          0                           1                    0   \n",
       "1                          0                           0                    1   \n",
       "2                          0                           0                    1   \n",
       "3                          0                           0                    1   \n",
       "4                          0                           0                    1   \n",
       "\n",
       "   spc_common_encoded  \n",
       "0                 103  \n",
       "1                  31  \n",
       "2                  31  \n",
       "3                  31  \n",
       "4                  82  \n",
       "\n",
       "[5 rows x 24 columns]"
      ]
     },
     "execution_count": 79,
     "metadata": {},
     "output_type": "execute_result"
    }
   ],
   "source": [
    "cleaned_df.head()"
   ]
  },
  {
   "cell_type": "code",
   "execution_count": 80,
   "metadata": {},
   "outputs": [],
   "source": [
    "# export transformed data\n",
    "cleaned_df.to_csv('transformed_data.csv', index=False)"
   ]
  },
  {
   "cell_type": "markdown",
   "metadata": {},
   "source": [
    "# Creating the machine learning models"
   ]
  },
  {
   "cell_type": "code",
   "execution_count": 81,
   "metadata": {},
   "outputs": [],
   "source": [
    "from sklearn.linear_model import LogisticRegression\n",
    "from sklearn.ensemble import RandomForestClassifier\n",
    "from sklearn.metrics import confusion_matrix, accuracy_score\n",
    "from sklearn.preprocessing import StandardScaler"
   ]
  },
  {
   "cell_type": "code",
   "execution_count": 82,
   "metadata": {},
   "outputs": [],
   "source": [
    "# sampled_data = cleaned_df.sample(n=20000, random_state=1) # so i can run the models faster\n",
    "sampled_data = cleaned_df\n",
    "\n",
    "# balance the dataset\n",
    "minority = sampled_data[sampled_data['health'] == 0]\n",
    "majority_downsampled = sampled_data[sampled_data['health'] == 1].sample(len(minority), random_state=123)\n",
    "\n",
    "sampled_data = pd.concat([majority_downsampled, minority])\n",
    "y = sampled_data['health']\n",
    "X = sampled_data.drop(columns=['health'])"
   ]
  },
  {
   "cell_type": "code",
   "execution_count": 83,
   "metadata": {},
   "outputs": [],
   "source": [
    "# split data into train and test sets\n",
    "X_train, X_test, y_train, y_test = train_test_split(X, y, test_size=0.3, random_state=123)\n",
    "# Standardizing the features\n",
    "scaler = StandardScaler()\n",
    "X_train = scaler.fit_transform(X_train)\n",
    "X_test = scaler.transform(X_test)\n"
   ]
  },
  {
   "cell_type": "markdown",
   "metadata": {},
   "source": [
    "### Logistic Regression"
   ]
  },
  {
   "cell_type": "code",
   "execution_count": 84,
   "metadata": {},
   "outputs": [
    {
     "data": {
      "text/plain": [
       "0.570611434690626"
      ]
     },
     "execution_count": 84,
     "metadata": {},
     "output_type": "execute_result"
    }
   ],
   "source": [
    "lr = LogisticRegression()\n",
    "lr.fit(X_train, y_train)\n",
    "y_pred = lr.predict(X_test)\n",
    "lr_accuracy = accuracy_score(y_test, y_pred)\n",
    "lr_accuracy\n"
   ]
  },
  {
   "cell_type": "code",
   "execution_count": 85,
   "metadata": {},
   "outputs": [
    {
     "data": {
      "text/plain": [
       "array([[ 8590, 10583],\n",
       "       [ 5857, 13257]], dtype=int64)"
      ]
     },
     "execution_count": 85,
     "metadata": {},
     "output_type": "execute_result"
    }
   ],
   "source": [
    "lr_conf_matrix = confusion_matrix(y_test, y_pred)\n",
    "lr_conf_matrix"
   ]
  },
  {
   "cell_type": "markdown",
   "metadata": {},
   "source": [
    "### KNN"
   ]
  },
  {
   "cell_type": "code",
   "execution_count": 86,
   "metadata": {},
   "outputs": [
    {
     "data": {
      "text/plain": [
       "0.6054013111499987"
      ]
     },
     "execution_count": 86,
     "metadata": {},
     "output_type": "execute_result"
    }
   ],
   "source": [
    "from sklearn.neighbors import KNeighborsClassifier\n",
    "\n",
    "knn = KNeighborsClassifier()\n",
    "knn.fit(X_train, y_train)\n",
    "predictions = knn.predict(X_test)\n",
    "\n",
    "# Evaluating the model\n",
    "knn_accuracy = accuracy_score(y_test, predictions)\n",
    "knn_accuracy"
   ]
  },
  {
   "cell_type": "code",
   "execution_count": 87,
   "metadata": {},
   "outputs": [
    {
     "data": {
      "text/plain": [
       "array([[ 8590, 10583],\n",
       "       [ 5857, 13257]], dtype=int64)"
      ]
     },
     "execution_count": 87,
     "metadata": {},
     "output_type": "execute_result"
    }
   ],
   "source": [
    "knn_conf_matrix = confusion_matrix(y_test, y_pred)\n",
    "knn_conf_matrix\n"
   ]
  },
  {
   "cell_type": "markdown",
   "metadata": {},
   "source": [
    "### Decision Tree Classifier"
   ]
  },
  {
   "cell_type": "code",
   "execution_count": 88,
   "metadata": {},
   "outputs": [
    {
     "data": {
      "text/plain": [
       "0.6171024107399379"
      ]
     },
     "execution_count": 88,
     "metadata": {},
     "output_type": "execute_result"
    }
   ],
   "source": [
    "from sklearn.tree import DecisionTreeClassifier\n",
    "\n",
    "\n",
    "decision_tree = DecisionTreeClassifier()\n",
    "decision_tree.fit(X_train, y_train)\n",
    "\n",
    "y_pred = decision_tree.predict(X_test)\n",
    "dt_accuracy = accuracy_score(y_test, y_pred)\n",
    "dt_accuracy\n"
   ]
  },
  {
   "cell_type": "code",
   "execution_count": 89,
   "metadata": {},
   "outputs": [
    {
     "data": {
      "text/plain": [
       "array([[12123,  7050],\n",
       "       [ 7610, 11504]], dtype=int64)"
      ]
     },
     "execution_count": 89,
     "metadata": {},
     "output_type": "execute_result"
    }
   ],
   "source": [
    "dt_conf_matrix = confusion_matrix(y_test, y_pred)\n",
    "dt_conf_matrix\n"
   ]
  },
  {
   "cell_type": "markdown",
   "metadata": {},
   "source": [
    "### random forest"
   ]
  },
  {
   "cell_type": "code",
   "execution_count": 90,
   "metadata": {},
   "outputs": [
    {
     "name": "stdout",
     "output_type": "stream",
     "text": [
      "Fitting 3 folds for each of 192 candidates, totalling 576 fits\n"
     ]
    },
    {
     "ename": "KeyboardInterrupt",
     "evalue": "",
     "output_type": "error",
     "traceback": [
      "\u001b[1;31m---------------------------------------------------------------------------\u001b[0m",
      "\u001b[1;31mKeyboardInterrupt\u001b[0m                         Traceback (most recent call last)",
      "\u001b[1;32mc:\\Users\\xchen\\OneDrive\\Desktop\\DataSci\\project\\student.ipynb Cell 62\u001b[0m line \u001b[0;36m2\n\u001b[0;32m     <a href='vscode-notebook-cell:/c%3A/Users/xchen/OneDrive/Desktop/DataSci/project/student.ipynb#Y115sZmlsZQ%3D%3D?line=18'>19</a>\u001b[0m     best_params \u001b[39m=\u001b[39m grid_search\u001b[39m.\u001b[39mbest_params_\n\u001b[0;32m     <a href='vscode-notebook-cell:/c%3A/Users/xchen/OneDrive/Desktop/DataSci/project/student.ipynb#Y115sZmlsZQ%3D%3D?line=19'>20</a>\u001b[0m     \u001b[39mreturn\u001b[39;00m best_params\n\u001b[1;32m---> <a href='vscode-notebook-cell:/c%3A/Users/xchen/OneDrive/Desktop/DataSci/project/student.ipynb#Y115sZmlsZQ%3D%3D?line=20'>21</a>\u001b[0m rf_grid_search()\n",
      "\u001b[1;32mc:\\Users\\xchen\\OneDrive\\Desktop\\DataSci\\project\\student.ipynb Cell 62\u001b[0m line \u001b[0;36m1\n\u001b[0;32m      <a href='vscode-notebook-cell:/c%3A/Users/xchen/OneDrive/Desktop/DataSci/project/student.ipynb#Y115sZmlsZQ%3D%3D?line=8'>9</a>\u001b[0m \u001b[39m# Grid search with cross-validation\u001b[39;00m\n\u001b[0;32m     <a href='vscode-notebook-cell:/c%3A/Users/xchen/OneDrive/Desktop/DataSci/project/student.ipynb#Y115sZmlsZQ%3D%3D?line=9'>10</a>\u001b[0m grid_search \u001b[39m=\u001b[39m GridSearchCV(estimator\u001b[39m=\u001b[39mRandomForestClassifier(random_state\u001b[39m=\u001b[39m\u001b[39m123\u001b[39m), \n\u001b[0;32m     <a href='vscode-notebook-cell:/c%3A/Users/xchen/OneDrive/Desktop/DataSci/project/student.ipynb#Y115sZmlsZQ%3D%3D?line=10'>11</a>\u001b[0m                         param_grid\u001b[39m=\u001b[39mparam_grid, \n\u001b[0;32m     <a href='vscode-notebook-cell:/c%3A/Users/xchen/OneDrive/Desktop/DataSci/project/student.ipynb#Y115sZmlsZQ%3D%3D?line=11'>12</a>\u001b[0m                         cv\u001b[39m=\u001b[39m\u001b[39m3\u001b[39m, \n\u001b[0;32m     <a href='vscode-notebook-cell:/c%3A/Users/xchen/OneDrive/Desktop/DataSci/project/student.ipynb#Y115sZmlsZQ%3D%3D?line=12'>13</a>\u001b[0m                         n_jobs\u001b[39m=\u001b[39m\u001b[39m-\u001b[39m\u001b[39m1\u001b[39m, \n\u001b[0;32m     <a href='vscode-notebook-cell:/c%3A/Users/xchen/OneDrive/Desktop/DataSci/project/student.ipynb#Y115sZmlsZQ%3D%3D?line=13'>14</a>\u001b[0m                         verbose\u001b[39m=\u001b[39m\u001b[39m2\u001b[39m)\n\u001b[1;32m---> <a href='vscode-notebook-cell:/c%3A/Users/xchen/OneDrive/Desktop/DataSci/project/student.ipynb#Y115sZmlsZQ%3D%3D?line=15'>16</a>\u001b[0m grid_search\u001b[39m.\u001b[39;49mfit(X_train, y_train)\n\u001b[0;32m     <a href='vscode-notebook-cell:/c%3A/Users/xchen/OneDrive/Desktop/DataSci/project/student.ipynb#Y115sZmlsZQ%3D%3D?line=17'>18</a>\u001b[0m \u001b[39m# Best parameters\u001b[39;00m\n\u001b[0;32m     <a href='vscode-notebook-cell:/c%3A/Users/xchen/OneDrive/Desktop/DataSci/project/student.ipynb#Y115sZmlsZQ%3D%3D?line=18'>19</a>\u001b[0m best_params \u001b[39m=\u001b[39m grid_search\u001b[39m.\u001b[39mbest_params_\n",
      "File \u001b[1;32mc:\\Users\\xchen\\AppData\\Local\\Programs\\Python\\Python311\\Lib\\site-packages\\sklearn\\base.py:1152\u001b[0m, in \u001b[0;36m_fit_context.<locals>.decorator.<locals>.wrapper\u001b[1;34m(estimator, *args, **kwargs)\u001b[0m\n\u001b[0;32m   1145\u001b[0m     estimator\u001b[39m.\u001b[39m_validate_params()\n\u001b[0;32m   1147\u001b[0m \u001b[39mwith\u001b[39;00m config_context(\n\u001b[0;32m   1148\u001b[0m     skip_parameter_validation\u001b[39m=\u001b[39m(\n\u001b[0;32m   1149\u001b[0m         prefer_skip_nested_validation \u001b[39mor\u001b[39;00m global_skip_validation\n\u001b[0;32m   1150\u001b[0m     )\n\u001b[0;32m   1151\u001b[0m ):\n\u001b[1;32m-> 1152\u001b[0m     \u001b[39mreturn\u001b[39;00m fit_method(estimator, \u001b[39m*\u001b[39;49margs, \u001b[39m*\u001b[39;49m\u001b[39m*\u001b[39;49mkwargs)\n",
      "File \u001b[1;32mc:\\Users\\xchen\\AppData\\Local\\Programs\\Python\\Python311\\Lib\\site-packages\\sklearn\\model_selection\\_search.py:898\u001b[0m, in \u001b[0;36mBaseSearchCV.fit\u001b[1;34m(self, X, y, groups, **fit_params)\u001b[0m\n\u001b[0;32m    892\u001b[0m     results \u001b[39m=\u001b[39m \u001b[39mself\u001b[39m\u001b[39m.\u001b[39m_format_results(\n\u001b[0;32m    893\u001b[0m         all_candidate_params, n_splits, all_out, all_more_results\n\u001b[0;32m    894\u001b[0m     )\n\u001b[0;32m    896\u001b[0m     \u001b[39mreturn\u001b[39;00m results\n\u001b[1;32m--> 898\u001b[0m \u001b[39mself\u001b[39;49m\u001b[39m.\u001b[39;49m_run_search(evaluate_candidates)\n\u001b[0;32m    900\u001b[0m \u001b[39m# multimetric is determined here because in the case of a callable\u001b[39;00m\n\u001b[0;32m    901\u001b[0m \u001b[39m# self.scoring the return type is only known after calling\u001b[39;00m\n\u001b[0;32m    902\u001b[0m first_test_score \u001b[39m=\u001b[39m all_out[\u001b[39m0\u001b[39m][\u001b[39m\"\u001b[39m\u001b[39mtest_scores\u001b[39m\u001b[39m\"\u001b[39m]\n",
      "File \u001b[1;32mc:\\Users\\xchen\\AppData\\Local\\Programs\\Python\\Python311\\Lib\\site-packages\\sklearn\\model_selection\\_search.py:1422\u001b[0m, in \u001b[0;36mGridSearchCV._run_search\u001b[1;34m(self, evaluate_candidates)\u001b[0m\n\u001b[0;32m   1420\u001b[0m \u001b[39mdef\u001b[39;00m \u001b[39m_run_search\u001b[39m(\u001b[39mself\u001b[39m, evaluate_candidates):\n\u001b[0;32m   1421\u001b[0m \u001b[39m    \u001b[39m\u001b[39m\"\"\"Search all candidates in param_grid\"\"\"\u001b[39;00m\n\u001b[1;32m-> 1422\u001b[0m     evaluate_candidates(ParameterGrid(\u001b[39mself\u001b[39;49m\u001b[39m.\u001b[39;49mparam_grid))\n",
      "File \u001b[1;32mc:\\Users\\xchen\\AppData\\Local\\Programs\\Python\\Python311\\Lib\\site-packages\\sklearn\\model_selection\\_search.py:845\u001b[0m, in \u001b[0;36mBaseSearchCV.fit.<locals>.evaluate_candidates\u001b[1;34m(candidate_params, cv, more_results)\u001b[0m\n\u001b[0;32m    837\u001b[0m \u001b[39mif\u001b[39;00m \u001b[39mself\u001b[39m\u001b[39m.\u001b[39mverbose \u001b[39m>\u001b[39m \u001b[39m0\u001b[39m:\n\u001b[0;32m    838\u001b[0m     \u001b[39mprint\u001b[39m(\n\u001b[0;32m    839\u001b[0m         \u001b[39m\"\u001b[39m\u001b[39mFitting \u001b[39m\u001b[39m{0}\u001b[39;00m\u001b[39m folds for each of \u001b[39m\u001b[39m{1}\u001b[39;00m\u001b[39m candidates,\u001b[39m\u001b[39m\"\u001b[39m\n\u001b[0;32m    840\u001b[0m         \u001b[39m\"\u001b[39m\u001b[39m totalling \u001b[39m\u001b[39m{2}\u001b[39;00m\u001b[39m fits\u001b[39m\u001b[39m\"\u001b[39m\u001b[39m.\u001b[39mformat(\n\u001b[0;32m    841\u001b[0m             n_splits, n_candidates, n_candidates \u001b[39m*\u001b[39m n_splits\n\u001b[0;32m    842\u001b[0m         )\n\u001b[0;32m    843\u001b[0m     )\n\u001b[1;32m--> 845\u001b[0m out \u001b[39m=\u001b[39m parallel(\n\u001b[0;32m    846\u001b[0m     delayed(_fit_and_score)(\n\u001b[0;32m    847\u001b[0m         clone(base_estimator),\n\u001b[0;32m    848\u001b[0m         X,\n\u001b[0;32m    849\u001b[0m         y,\n\u001b[0;32m    850\u001b[0m         train\u001b[39m=\u001b[39;49mtrain,\n\u001b[0;32m    851\u001b[0m         test\u001b[39m=\u001b[39;49mtest,\n\u001b[0;32m    852\u001b[0m         parameters\u001b[39m=\u001b[39;49mparameters,\n\u001b[0;32m    853\u001b[0m         split_progress\u001b[39m=\u001b[39;49m(split_idx, n_splits),\n\u001b[0;32m    854\u001b[0m         candidate_progress\u001b[39m=\u001b[39;49m(cand_idx, n_candidates),\n\u001b[0;32m    855\u001b[0m         \u001b[39m*\u001b[39;49m\u001b[39m*\u001b[39;49mfit_and_score_kwargs,\n\u001b[0;32m    856\u001b[0m     )\n\u001b[0;32m    857\u001b[0m     \u001b[39mfor\u001b[39;49;00m (cand_idx, parameters), (split_idx, (train, test)) \u001b[39min\u001b[39;49;00m product(\n\u001b[0;32m    858\u001b[0m         \u001b[39menumerate\u001b[39;49m(candidate_params), \u001b[39menumerate\u001b[39;49m(cv\u001b[39m.\u001b[39;49msplit(X, y, groups))\n\u001b[0;32m    859\u001b[0m     )\n\u001b[0;32m    860\u001b[0m )\n\u001b[0;32m    862\u001b[0m \u001b[39mif\u001b[39;00m \u001b[39mlen\u001b[39m(out) \u001b[39m<\u001b[39m \u001b[39m1\u001b[39m:\n\u001b[0;32m    863\u001b[0m     \u001b[39mraise\u001b[39;00m \u001b[39mValueError\u001b[39;00m(\n\u001b[0;32m    864\u001b[0m         \u001b[39m\"\u001b[39m\u001b[39mNo fits were performed. \u001b[39m\u001b[39m\"\u001b[39m\n\u001b[0;32m    865\u001b[0m         \u001b[39m\"\u001b[39m\u001b[39mWas the CV iterator empty? \u001b[39m\u001b[39m\"\u001b[39m\n\u001b[0;32m    866\u001b[0m         \u001b[39m\"\u001b[39m\u001b[39mWere there no candidates?\u001b[39m\u001b[39m\"\u001b[39m\n\u001b[0;32m    867\u001b[0m     )\n",
      "File \u001b[1;32mc:\\Users\\xchen\\AppData\\Local\\Programs\\Python\\Python311\\Lib\\site-packages\\sklearn\\utils\\parallel.py:65\u001b[0m, in \u001b[0;36mParallel.__call__\u001b[1;34m(self, iterable)\u001b[0m\n\u001b[0;32m     60\u001b[0m config \u001b[39m=\u001b[39m get_config()\n\u001b[0;32m     61\u001b[0m iterable_with_config \u001b[39m=\u001b[39m (\n\u001b[0;32m     62\u001b[0m     (_with_config(delayed_func, config), args, kwargs)\n\u001b[0;32m     63\u001b[0m     \u001b[39mfor\u001b[39;00m delayed_func, args, kwargs \u001b[39min\u001b[39;00m iterable\n\u001b[0;32m     64\u001b[0m )\n\u001b[1;32m---> 65\u001b[0m \u001b[39mreturn\u001b[39;00m \u001b[39msuper\u001b[39;49m()\u001b[39m.\u001b[39;49m\u001b[39m__call__\u001b[39;49m(iterable_with_config)\n",
      "File \u001b[1;32mc:\\Users\\xchen\\AppData\\Local\\Programs\\Python\\Python311\\Lib\\site-packages\\joblib\\parallel.py:1952\u001b[0m, in \u001b[0;36mParallel.__call__\u001b[1;34m(self, iterable)\u001b[0m\n\u001b[0;32m   1946\u001b[0m \u001b[39m# The first item from the output is blank, but it makes the interpreter\u001b[39;00m\n\u001b[0;32m   1947\u001b[0m \u001b[39m# progress until it enters the Try/Except block of the generator and\u001b[39;00m\n\u001b[0;32m   1948\u001b[0m \u001b[39m# reach the first `yield` statement. This starts the aynchronous\u001b[39;00m\n\u001b[0;32m   1949\u001b[0m \u001b[39m# dispatch of the tasks to the workers.\u001b[39;00m\n\u001b[0;32m   1950\u001b[0m \u001b[39mnext\u001b[39m(output)\n\u001b[1;32m-> 1952\u001b[0m \u001b[39mreturn\u001b[39;00m output \u001b[39mif\u001b[39;00m \u001b[39mself\u001b[39m\u001b[39m.\u001b[39mreturn_generator \u001b[39melse\u001b[39;00m \u001b[39mlist\u001b[39;49m(output)\n",
      "File \u001b[1;32mc:\\Users\\xchen\\AppData\\Local\\Programs\\Python\\Python311\\Lib\\site-packages\\joblib\\parallel.py:1595\u001b[0m, in \u001b[0;36mParallel._get_outputs\u001b[1;34m(self, iterator, pre_dispatch)\u001b[0m\n\u001b[0;32m   1592\u001b[0m     \u001b[39myield\u001b[39;00m\n\u001b[0;32m   1594\u001b[0m     \u001b[39mwith\u001b[39;00m \u001b[39mself\u001b[39m\u001b[39m.\u001b[39m_backend\u001b[39m.\u001b[39mretrieval_context():\n\u001b[1;32m-> 1595\u001b[0m         \u001b[39myield from\u001b[39;00m \u001b[39mself\u001b[39m\u001b[39m.\u001b[39m_retrieve()\n\u001b[0;32m   1597\u001b[0m \u001b[39mexcept\u001b[39;00m \u001b[39mGeneratorExit\u001b[39;00m:\n\u001b[0;32m   1598\u001b[0m     \u001b[39m# The generator has been garbage collected before being fully\u001b[39;00m\n\u001b[0;32m   1599\u001b[0m     \u001b[39m# consumed. This aborts the remaining tasks if possible and warn\u001b[39;00m\n\u001b[0;32m   1600\u001b[0m     \u001b[39m# the user if necessary.\u001b[39;00m\n\u001b[0;32m   1601\u001b[0m     \u001b[39mself\u001b[39m\u001b[39m.\u001b[39m_exception \u001b[39m=\u001b[39m \u001b[39mTrue\u001b[39;00m\n",
      "File \u001b[1;32mc:\\Users\\xchen\\AppData\\Local\\Programs\\Python\\Python311\\Lib\\site-packages\\joblib\\parallel.py:1707\u001b[0m, in \u001b[0;36mParallel._retrieve\u001b[1;34m(self)\u001b[0m\n\u001b[0;32m   1702\u001b[0m \u001b[39m# If the next job is not ready for retrieval yet, we just wait for\u001b[39;00m\n\u001b[0;32m   1703\u001b[0m \u001b[39m# async callbacks to progress.\u001b[39;00m\n\u001b[0;32m   1704\u001b[0m \u001b[39mif\u001b[39;00m ((\u001b[39mlen\u001b[39m(\u001b[39mself\u001b[39m\u001b[39m.\u001b[39m_jobs) \u001b[39m==\u001b[39m \u001b[39m0\u001b[39m) \u001b[39mor\u001b[39;00m\n\u001b[0;32m   1705\u001b[0m     (\u001b[39mself\u001b[39m\u001b[39m.\u001b[39m_jobs[\u001b[39m0\u001b[39m]\u001b[39m.\u001b[39mget_status(\n\u001b[0;32m   1706\u001b[0m         timeout\u001b[39m=\u001b[39m\u001b[39mself\u001b[39m\u001b[39m.\u001b[39mtimeout) \u001b[39m==\u001b[39m TASK_PENDING)):\n\u001b[1;32m-> 1707\u001b[0m     time\u001b[39m.\u001b[39msleep(\u001b[39m0.01\u001b[39m)\n\u001b[0;32m   1708\u001b[0m     \u001b[39mcontinue\u001b[39;00m\n\u001b[0;32m   1710\u001b[0m \u001b[39m# We need to be careful: the job list can be filling up as\u001b[39;00m\n\u001b[0;32m   1711\u001b[0m \u001b[39m# we empty it and Python list are not thread-safe by\u001b[39;00m\n\u001b[0;32m   1712\u001b[0m \u001b[39m# default hence the use of the lock\u001b[39;00m\n",
      "\u001b[1;31mKeyboardInterrupt\u001b[0m: "
     ]
    }
   ],
   "source": [
    "def rf_grid_search():\n",
    "    # Perform grid search\n",
    "    param_grid = {\n",
    "        'n_estimators': [50, 75, 100, 150],\n",
    "        'max_depth': [None, 10, 20, 30],\n",
    "        'min_samples_split': [2, 5, 10],\n",
    "        'min_samples_leaf': [1, 2, 4, 6]\n",
    "    }\n",
    "    # Grid search with cross-validation\n",
    "    grid_search = GridSearchCV(estimator=RandomForestClassifier(random_state=123), \n",
    "                            param_grid=param_grid, \n",
    "                            cv=3, \n",
    "                            n_jobs=-1, \n",
    "                            verbose=2)\n",
    "\n",
    "    grid_search.fit(X_train, y_train)\n",
    "\n",
    "    # Best parameters\n",
    "    best_params = grid_search.best_params_\n",
    "    return best_params\n",
    "rf_grid_search()"
   ]
  },
  {
   "cell_type": "code",
   "execution_count": null,
   "metadata": {},
   "outputs": [
    {
     "data": {
      "text/plain": [
       "0.6727609893697599"
      ]
     },
     "execution_count": 52,
     "metadata": {},
     "output_type": "execute_result"
    }
   ],
   "source": [
    "rf = RandomForestClassifier(max_depth= 30, min_samples_leaf= 2, min_samples_split= 2, n_estimators=150)\n",
    "rf.fit(X_train, y_train)\n",
    "y_pred = rf.predict(X_test)\n",
    "rf_accuracy = rf.score(X_test, y_test)\n",
    "rf_accuracy"
   ]
  },
  {
   "cell_type": "code",
   "execution_count": null,
   "metadata": {},
   "outputs": [
    {
     "data": {
      "image/png": "[encoded data removed]",
      "text/plain": [
       "<Figure size 300x200 with 2 Axes>"
      ]
     },
     "metadata": {},
     "output_type": "display_data"
    }
   ],
   "source": [
    "# Calculate the confusion matrix\n",
    "rf_conf_matrix = confusion_matrix(y_test, y_pred)\n",
    "\n",
    "# Create a heatmap from the confusion matrix\n",
    "plt.figure(figsize=(4, 3))\n",
    "sns.heatmap(rf_conf_matrix, annot=True, fmt='d', cmap='Blues',\n",
    "            xticklabels=['Unhealthy', 'Healthy'], yticklabels=['Unhealthy', 'Healthy'])\n",
    "\n",
    "plt.xlabel('Predicted')\n",
    "plt.ylabel('Actual')\n",
    "plt.title('Random Forest Confusion Matrix')\n",
    "\n",
    "plt.show()"
   ]
  },
  {
   "cell_type": "markdown",
   "metadata": {},
   "source": [
    "# Results"
   ]
  },
  {
   "cell_type": "code",
   "execution_count": null,
   "metadata": {},
   "outputs": [
    {
     "data": {
      "image/png": "[encoded data removed]",
      "text/plain": [
       "<Figure size 640x480 with 1 Axes>"
      ]
     },
     "metadata": {},
     "output_type": "display_data"
    }
   ],
   "source": [
    "accuracy_scores = [lr_accuracy, knn_accuracy, dt_accuracy, rf_accuracy]\n",
    "labels = ['Logistic Regression', 'KNN', 'Decision Tree', 'Random Forest']\n",
    "plt.bar(labels, accuracy_scores)\n",
    "plt.ylabel('Accuracy Score')\n",
    "plt.xlabel('Models')\n",
    "plt.title('Accuracy Scores for Different Models')\n",
    "plt.show()\n"
   ]
  },
  {
   "cell_type": "code",
   "execution_count": null,
   "metadata": {},
   "outputs": [
    {
     "name": "stdout",
     "output_type": "stream",
     "text": [
      "Logistic Regression: 0.570611434690626\n",
      "KNN: 0.6054013111499987\n",
      "Decision Tree: 0.6174158330503826\n",
      "Random Forest: 0.6727609893697599\n"
     ]
    }
   ],
   "source": [
    "def print_model_accs(labels, accuracy_scores):\n",
    "    for label, score in zip(labels, accuracy_scores):\n",
    "        print(f'{label}: {score}')\n",
    "print_model_accs(labels, accuracy_scores)"
   ]
  },
  {
   "cell_type": "markdown",
   "metadata": {},
   "source": [
    "Random Forest performed the best with an accuracy of .6734 while a simple logistic regression model performed the worse with an accuracy of .57"
   ]
  },
  {
   "cell_type": "markdown",
   "metadata": {},
   "source": []
  }
 ],
 "metadata": {
  "kernelspec": {
   "display_name": "Python 3",
   "language": "python",
   "name": "python3"
  },
  "language_info": {
   "codemirror_mode": {
    "name": "ipython",
    "version": 3
   },
   "file_extension": ".py",
   "mimetype": "text/x-python",
   "name": "python",
   "nbconvert_exporter": "python",
   "pygments_lexer": "ipython3",
   "version": "3.11.4"
  }
 },
 "nbformat": 4,
 "nbformat_minor": 2
}
